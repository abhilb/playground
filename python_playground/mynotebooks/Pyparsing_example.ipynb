{
 "cells": [
  {
   "cell_type": "code",
   "execution_count": null,
   "metadata": {
    "collapsed": false
   },
   "outputs": [],
   "source": [
    "from pyparsing import *\n",
    "\n",
    "expr = oneOf(\"select update\") + OneOrMore(Word(alphanums))\n",
    "print(expr.parseString(\"update test xml\"))\n"
   ]
  },
  {
   "cell_type": "code",
   "execution_count": null,
   "metadata": {
    "collapsed": false
   },
   "outputs": [],
   "source": [
    "expr = oneOf(\"select update\") + Group(OneOrMore(Word(alphanums)))\n",
    "print(expr.parseString(\"select test xml\"))"
   ]
  },
  {
   "cell_type": "code",
   "execution_count": null,
   "metadata": {
    "collapsed": false
   },
   "outputs": [],
   "source": [
    "expr = oneOf(\"select update\") + Literal(\"where\") + OneOrMore(Word(alphas))\n",
    "print(expr.parseString(\"select where munich berlin\"))"
   ]
  },
  {
   "cell_type": "code",
   "execution_count": null,
   "metadata": {
    "collapsed": false
   },
   "outputs": [],
   "source": [
    "expr = Keyword(\"select\") + Literal(\"where\") + \\\n",
    "        Optional(CaselessKeyword(\"name\") + CaselessKeyword(\"is\") + Word(alphas)) \n",
    "print(expr.parseString(\"select where name is abhilash\"))"
   ]
  },
  {
   "cell_type": "markdown",
   "metadata": {},
   "source": [
    "# Suppress \n",
    "+ In the above snippet the result also has the keywords which I dont need"
   ]
  },
  {
   "cell_type": "code",
   "execution_count": null,
   "metadata": {
    "collapsed": false
   },
   "outputs": [],
   "source": [
    "expr = Keyword(\"select\") + Suppress(Literal(\"where\")) + \\\n",
    "        Optional(CaselessKeyword(\"name\") + Suppress(CaselessKeyword(\"is\")) + Word(alphas)) \n",
    "print(expr.parseString(\"select where name is abhilash\"))"
   ]
  },
  {
   "cell_type": "markdown",
   "metadata": {},
   "source": [
    "# Set result names"
   ]
  },
  {
   "cell_type": "code",
   "execution_count": null,
   "metadata": {
    "collapsed": false
   },
   "outputs": [],
   "source": [
    "name_expr = Suppress(CaselessKeyword(\"name\") + CaselessKeyword(\"is\")) + Word(alphas).setResultsName(\"Name\")\n",
    "expr = Keyword(\"select\") + Suppress(Literal(\"where\")) + Optional(name_expr)\n",
    "result = expr.parseString(\"select where name is abhilash\")\n",
    "print(result)\n",
    "print(result.asDict())\n"
   ]
  },
  {
   "cell_type": "markdown",
   "metadata": {},
   "source": [
    "   ### How to use FollowedBy\n",
    "   ---\n",
    "   Examples from PyParsing documentation"
   ]
  },
  {
   "cell_type": "code",
   "execution_count": 15,
   "metadata": {
    "collapsed": false
   },
   "outputs": [
    {
     "name": "stdout",
     "output_type": "stream",
     "text": [
      "['Robin', '144']\n"
     ]
    }
   ],
   "source": [
    "name = Word(alphas)\n",
    "oneOrTwo = Word('12', exact=1)\n",
    "number = Word(nums)\n",
    "pat = name + FollowedBy(oneOrTwo) + number\n",
    "print(pat.parseString(\"Robin144\"))"
   ]
  },
  {
   "cell_type": "code",
   "execution_count": null,
   "metadata": {
    "collapsed": true
   },
   "outputs": [],
   "source": [
    "print(pat.parseString())"
   ]
  }
 ],
 "metadata": {
  "kernelspec": {
   "display_name": "Python 3",
   "language": "python",
   "name": "python3"
  },
  "language_info": {
   "codemirror_mode": {
    "name": "ipython",
    "version": 3
   },
   "file_extension": ".py",
   "mimetype": "text/x-python",
   "name": "python",
   "nbconvert_exporter": "python",
   "pygments_lexer": "ipython3",
   "version": "3.5.3"
  }
 },
 "nbformat": 4,
 "nbformat_minor": 2
}
