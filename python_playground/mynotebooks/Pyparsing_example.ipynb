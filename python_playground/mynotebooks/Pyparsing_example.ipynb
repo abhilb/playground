{
 "cells": [
  {
   "cell_type": "code",
   "execution_count": 6,
   "metadata": {
    "collapsed": false
   },
   "outputs": [
    {
     "name": "stdout",
     "output_type": "stream",
     "text": [
      "['update', 'test', 'xml']\n"
     ]
    }
   ],
   "source": [
    "from pyparsing import *\n",
    "\n",
    "expr = oneOf(\"select update\") + OneOrMore(Word(alphanums))\n",
    "print(expr.parseString(\"update test xml\"))\n"
   ]
  },
  {
   "cell_type": "code",
   "execution_count": 8,
   "metadata": {
    "collapsed": false
   },
   "outputs": [
    {
     "name": "stdout",
     "output_type": "stream",
     "text": [
      "['select', ['test', 'xml']]\n"
     ]
    }
   ],
   "source": [
    "expr = oneOf(\"select update\") + Group(OneOrMore(Word(alphanums)))\n",
    "print(expr.parseString(\"select test xml\"))"
   ]
  }
 ],
 "metadata": {
  "kernelspec": {
   "display_name": "Python 3",
   "language": "python",
   "name": "python3"
  },
  "language_info": {
   "codemirror_mode": {
    "name": "ipython",
    "version": 3
   },
   "file_extension": ".py",
   "mimetype": "text/x-python",
   "name": "python",
   "nbconvert_exporter": "python",
   "pygments_lexer": "ipython3",
   "version": "3.5.3"
  }
 },
 "nbformat": 4,
 "nbformat_minor": 2
}
