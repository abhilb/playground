{
 "cells": [
  {
   "cell_type": "code",
   "execution_count": 1,
   "metadata": {
    "collapsed": false
   },
   "outputs": [
    {
     "name": "stdout",
     "output_type": "stream",
     "text": [
      "['update', 'test', 'xml']\n"
     ]
    }
   ],
   "source": [
    "from pyparsing import *\n",
    "\n",
    "expr = oneOf(\"select update\") + OneOrMore(Word(alphanums))\n",
    "print(expr.parseString(\"update test xml\"))\n"
   ]
  },
  {
   "cell_type": "code",
   "execution_count": 2,
   "metadata": {
    "collapsed": false
   },
   "outputs": [
    {
     "name": "stdout",
     "output_type": "stream",
     "text": [
      "['select', ['test', 'xml']]\n"
     ]
    }
   ],
   "source": [
    "expr = oneOf(\"select update\") + Group(OneOrMore(Word(alphanums)))\n",
    "print(expr.parseString(\"select test xml\"))"
   ]
  },
  {
   "cell_type": "code",
   "execution_count": 4,
   "metadata": {
    "collapsed": false
   },
   "outputs": [
    {
     "name": "stdout",
     "output_type": "stream",
     "text": [
      "['select', 'where', 'munich', 'berlin']\n"
     ]
    }
   ],
   "source": [
    "expr = oneOf(\"select update\") + Literal(\"where\") + OneOrMore(Word(alphas))\n",
    "print(expr.parseString(\"select where munich berlin\"))"
   ]
  },
  {
   "cell_type": "code",
   "execution_count": 5,
   "metadata": {
    "collapsed": false
   },
   "outputs": [
    {
     "name": "stdout",
     "output_type": "stream",
     "text": [
      "['select', 'where', 'name', 'is', 'abhilash']\n"
     ]
    }
   ],
   "source": [
    "expr = Keyword(\"select\") + Literal(\"where\") + \\\n",
    "        Optional(CaselessKeyword(\"name\") + CaselessKeyword(\"is\") + Word(alphas)) \n",
    "print(expr.parseString(\"select where name is abhilash\"))"
   ]
  },
  {
   "cell_type": "markdown",
   "metadata": {},
   "source": [
    "# Suppress \n",
    "+ In the above snippet the result also has the keywords which I dont need"
   ]
  },
  {
   "cell_type": "code",
   "execution_count": 7,
   "metadata": {
    "collapsed": false
   },
   "outputs": [
    {
     "name": "stdout",
     "output_type": "stream",
     "text": [
      "['select', 'name', 'abhilash']\n"
     ]
    }
   ],
   "source": [
    "expr = Keyword(\"select\") + Suppress(Literal(\"where\")) + \\\n",
    "        Optional(CaselessKeyword(\"name\") + Suppress(CaselessKeyword(\"is\")) + Word(alphas)) \n",
    "print(expr.parseString(\"select where name is abhilash\"))"
   ]
  },
  {
   "cell_type": "code",
   "execution_count": null,
   "metadata": {
    "collapsed": true
   },
   "outputs": [],
   "source": []
  },
  {
   "cell_type": "code",
   "execution_count": null,
   "metadata": {
    "collapsed": true
   },
   "outputs": [],
   "source": []
  }
 ],
 "metadata": {
  "kernelspec": {
   "display_name": "Python 3",
   "language": "python",
   "name": "python3"
  },
  "language_info": {
   "codemirror_mode": {
    "name": "ipython",
    "version": 3
   },
   "file_extension": ".py",
   "mimetype": "text/x-python",
   "name": "python",
   "nbconvert_exporter": "python",
   "pygments_lexer": "ipython3",
   "version": "3.5.3"
  }
 },
 "nbformat": 4,
 "nbformat_minor": 2
}
